{
 "cells": [
  {
   "cell_type": "code",
   "execution_count": 1,
   "metadata": {},
   "outputs": [
    {
     "name": "stdout",
     "output_type": "stream",
     "text": [
      "QIIX QI FC XLI VSWI FYWLIW XSRMKLX.\n"
     ]
    }
   ],
   "source": [
    "def caesar_cipher(message, key):\n",
    "    encription = ''\n",
    "    source = \"ABCDEFGHIJKLMNOPQRSTUVWXYZ\"\n",
    "    for char in message.upper():\n",
    "        if char.isalpha():\n",
    "            encription += source[source.index(char)-26+key]\n",
    "        else:\n",
    "            encription += char\n",
    "    return encription\n",
    "\n",
    "if __name__ == '__main__':\n",
    "    #message = input(\"Enter a text: \")\n",
    "    message = \"Meet me by the rose bushes tonight.\"\n",
    "    key = 4\n",
    "    encription = caesar_cipher(message, key)\n",
    "    print(encription)"
   ]
  }
 ],
 "metadata": {
  "kernelspec": {
   "display_name": "Python 3",
   "language": "python",
   "name": "python3"
  },
  "language_info": {
   "codemirror_mode": {
    "name": "ipython",
    "version": 3
   },
   "file_extension": ".py",
   "mimetype": "text/x-python",
   "name": "python",
   "nbconvert_exporter": "python",
   "pygments_lexer": "ipython3",
   "version": "3.10.1"
  },
  "orig_nbformat": 4
 },
 "nbformat": 4,
 "nbformat_minor": 2
}
